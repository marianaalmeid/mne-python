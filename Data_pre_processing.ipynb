{
  "nbformat": 4,
  "nbformat_minor": 0,
  "metadata": {
    "colab": {
      "name": "Data pre processing.ipynb",
      "provenance": [],
      "mount_file_id": "111I9-KeksXonGFFFRtJv3wZDmgKgUEZw",
      "authorship_tag": "ABX9TyNvx5swLcPO1AEOPkuoMdIg",
      "include_colab_link": true
    },
    "kernelspec": {
      "name": "python3",
      "display_name": "Python 3"
    },
    "language_info": {
      "name": "python"
    }
  },
  "cells": [
    {
      "cell_type": "markdown",
      "metadata": {
        "id": "view-in-github",
        "colab_type": "text"
      },
      "source": [
        "<a href=\"https://colab.research.google.com/github/marianaalmeid/mne-python/blob/main/Data_pre_processing.ipynb\" target=\"_parent\"><img src=\"https://colab.research.google.com/assets/colab-badge.svg\" alt=\"Open In Colab\"/></a>"
      ]
    },
    {
      "cell_type": "markdown",
      "metadata": {
        "id": "UWJmkbM0tqzM"
      },
      "source": [
        "# **Data preprocessing**"
      ]
    },
    {
      "cell_type": "code",
      "metadata": {
        "id": "2T4NGWW9t_qq"
      },
      "source": [
        "pip install mne"
      ],
      "execution_count": null,
      "outputs": []
    },
    {
      "cell_type": "code",
      "metadata": {
        "id": "9cX3Fa7XtamI"
      },
      "source": [
        "import numpy as np\n",
        "import pandas as pd\n",
        "import matplotlib.pyplot as plt\n",
        "from time import time\n",
        "import mne\n",
        "from mne import Epochs, pick_types, events_from_annotations, create_info, find_events, read_annotations, pick_events, read_events, read_epochs_eeglab, read_evokeds\n",
        "from mne.channels import read_layout, read_custom_montage, find_layout, make_standard_montage, make_eeg_layout, make_dig_montage\n",
        "from mne.io import concatenate_raws, read_raw_gdf, read_raw_eeglab\n",
        "from mne.time_frequency import (tfr_multitaper, tfr_stockwell, tfr_morlet,tfr_array_morlet)\n",
        "from mne.preprocessing import ICA\n",
        "from tkinter import Tk     # from tkinter import Tk for Python 3.x\n",
        "from tkinter.filedialog import askopenfilename\n",
        "import warnings\n",
        "from PIL import Image\n",
        "warnings.filterwarnings('ignore')"
      ],
      "execution_count": null,
      "outputs": []
    },
    {
      "cell_type": "code",
      "metadata": {
        "colab": {
          "base_uri": "https://localhost:8080/",
          "height": 413
        },
        "id": "jRB7gmqbwNTK",
        "outputId": "c7e69984-9c8e-4ed4-96b3-c5528f8f9583"
      },
      "source": [
        "file = '/NF4_online_gdf_2_1_2019.07.16_11.43.59.gdf' #PLEASE UPLOAD SAMPLE FILES\n",
        "raw = read_raw_gdf(file, preload=True) "
      ],
      "execution_count": null,
      "outputs": [
        {
          "output_type": "stream",
          "name": "stdout",
          "text": [
            "Extracting EDF parameters from /NF4_online_gdf_2_1_2019.07.16_11.43.59.gdf...\n",
            "GDF file detected\n"
          ]
        },
        {
          "output_type": "error",
          "ename": "IndexError",
          "evalue": "ignored",
          "traceback": [
            "\u001b[0;31m---------------------------------------------------------------------------\u001b[0m",
            "\u001b[0;31mIndexError\u001b[0m                                Traceback (most recent call last)",
            "\u001b[0;32m<ipython-input-6-29c58950b2e1>\u001b[0m in \u001b[0;36m<module>\u001b[0;34m()\u001b[0m\n\u001b[1;32m      1\u001b[0m \u001b[0mfile\u001b[0m \u001b[0;34m=\u001b[0m \u001b[0;34m'/NF4_online_gdf_2_1_2019.07.16_11.43.59.gdf'\u001b[0m\u001b[0;34m\u001b[0m\u001b[0;34m\u001b[0m\u001b[0m\n\u001b[0;32m----> 2\u001b[0;31m \u001b[0mraw\u001b[0m \u001b[0;34m=\u001b[0m \u001b[0mread_raw_gdf\u001b[0m\u001b[0;34m(\u001b[0m\u001b[0mfile\u001b[0m\u001b[0;34m,\u001b[0m \u001b[0mpreload\u001b[0m\u001b[0;34m=\u001b[0m\u001b[0;32mTrue\u001b[0m\u001b[0;34m)\u001b[0m\u001b[0;34m\u001b[0m\u001b[0;34m\u001b[0m\u001b[0m\n\u001b[0m",
            "\u001b[0;32m/usr/local/lib/python3.7/dist-packages/mne/io/edf/edf.py\u001b[0m in \u001b[0;36mread_raw_gdf\u001b[0;34m(input_fname, eog, misc, stim_channel, exclude, preload, verbose)\u001b[0m\n\u001b[1;32m   1503\u001b[0m     return RawGDF(input_fname=input_fname, eog=eog, misc=misc,\n\u001b[1;32m   1504\u001b[0m                   \u001b[0mstim_channel\u001b[0m\u001b[0;34m=\u001b[0m\u001b[0mstim_channel\u001b[0m\u001b[0;34m,\u001b[0m \u001b[0mexclude\u001b[0m\u001b[0;34m=\u001b[0m\u001b[0mexclude\u001b[0m\u001b[0;34m,\u001b[0m \u001b[0mpreload\u001b[0m\u001b[0;34m=\u001b[0m\u001b[0mpreload\u001b[0m\u001b[0;34m,\u001b[0m\u001b[0;34m\u001b[0m\u001b[0;34m\u001b[0m\u001b[0m\n\u001b[0;32m-> 1505\u001b[0;31m                   verbose=verbose)\n\u001b[0m\u001b[1;32m   1506\u001b[0m \u001b[0;34m\u001b[0m\u001b[0m\n\u001b[1;32m   1507\u001b[0m \u001b[0;34m\u001b[0m\u001b[0m\n",
            "\u001b[0;32m<decorator-gen-216>\u001b[0m in \u001b[0;36m__init__\u001b[0;34m(self, input_fname, eog, misc, stim_channel, exclude, preload, verbose)\u001b[0m\n",
            "\u001b[0;32m/usr/local/lib/python3.7/dist-packages/mne/io/edf/edf.py\u001b[0m in \u001b[0;36m__init__\u001b[0;34m(self, input_fname, eog, misc, stim_channel, exclude, preload, verbose)\u001b[0m\n\u001b[1;32m    215\u001b[0m         \u001b[0minput_fname\u001b[0m \u001b[0;34m=\u001b[0m \u001b[0mos\u001b[0m\u001b[0;34m.\u001b[0m\u001b[0mpath\u001b[0m\u001b[0;34m.\u001b[0m\u001b[0mabspath\u001b[0m\u001b[0;34m(\u001b[0m\u001b[0minput_fname\u001b[0m\u001b[0;34m)\u001b[0m\u001b[0;34m\u001b[0m\u001b[0;34m\u001b[0m\u001b[0m\n\u001b[1;32m    216\u001b[0m         info, edf_info, orig_units = _get_info(input_fname, stim_channel, eog,\n\u001b[0;32m--> 217\u001b[0;31m                                                misc, exclude, True, preload)\n\u001b[0m\u001b[1;32m    218\u001b[0m         \u001b[0mlogger\u001b[0m\u001b[0;34m.\u001b[0m\u001b[0minfo\u001b[0m\u001b[0;34m(\u001b[0m\u001b[0;34m'Creating raw.info structure...'\u001b[0m\u001b[0;34m)\u001b[0m\u001b[0;34m\u001b[0m\u001b[0;34m\u001b[0m\u001b[0m\n\u001b[1;32m    219\u001b[0m \u001b[0;34m\u001b[0m\u001b[0m\n",
            "\u001b[0;32m/usr/local/lib/python3.7/dist-packages/mne/io/edf/edf.py\u001b[0m in \u001b[0;36m_get_info\u001b[0;34m(fname, stim_channel, eog, misc, exclude, infer_types, preload)\u001b[0m\n\u001b[1;32m    382\u001b[0m     \u001b[0mmisc\u001b[0m \u001b[0;34m=\u001b[0m \u001b[0mmisc\u001b[0m \u001b[0;32mif\u001b[0m \u001b[0mmisc\u001b[0m \u001b[0;32mis\u001b[0m \u001b[0;32mnot\u001b[0m \u001b[0;32mNone\u001b[0m \u001b[0;32melse\u001b[0m \u001b[0;34m[\u001b[0m\u001b[0;34m]\u001b[0m\u001b[0;34m\u001b[0m\u001b[0;34m\u001b[0m\u001b[0m\n\u001b[1;32m    383\u001b[0m \u001b[0;34m\u001b[0m\u001b[0m\n\u001b[0;32m--> 384\u001b[0;31m     \u001b[0medf_info\u001b[0m\u001b[0;34m,\u001b[0m \u001b[0morig_units\u001b[0m \u001b[0;34m=\u001b[0m \u001b[0m_read_header\u001b[0m\u001b[0;34m(\u001b[0m\u001b[0mfname\u001b[0m\u001b[0;34m,\u001b[0m \u001b[0mexclude\u001b[0m\u001b[0;34m,\u001b[0m \u001b[0minfer_types\u001b[0m\u001b[0;34m)\u001b[0m\u001b[0;34m\u001b[0m\u001b[0;34m\u001b[0m\u001b[0m\n\u001b[0m\u001b[1;32m    385\u001b[0m \u001b[0;34m\u001b[0m\u001b[0m\n\u001b[1;32m    386\u001b[0m     \u001b[0;31m# XXX: `tal_ch_names` to pass to `_check_stim_channel` should be computed\u001b[0m\u001b[0;34m\u001b[0m\u001b[0;34m\u001b[0m\u001b[0;34m\u001b[0m\u001b[0m\n",
            "\u001b[0;32m/usr/local/lib/python3.7/dist-packages/mne/io/edf/edf.py\u001b[0m in \u001b[0;36m_read_header\u001b[0;34m(fname, exclude, infer_types)\u001b[0m\n\u001b[1;32m    371\u001b[0m         \u001b[0;32mreturn\u001b[0m \u001b[0m_read_edf_header\u001b[0m\u001b[0;34m(\u001b[0m\u001b[0mfname\u001b[0m\u001b[0;34m,\u001b[0m \u001b[0mexclude\u001b[0m\u001b[0;34m,\u001b[0m \u001b[0minfer_types\u001b[0m\u001b[0;34m)\u001b[0m\u001b[0;34m\u001b[0m\u001b[0;34m\u001b[0m\u001b[0m\n\u001b[1;32m    372\u001b[0m     \u001b[0;32melif\u001b[0m \u001b[0mext\u001b[0m \u001b[0;34m==\u001b[0m \u001b[0;34m'gdf'\u001b[0m\u001b[0;34m:\u001b[0m\u001b[0;34m\u001b[0m\u001b[0;34m\u001b[0m\u001b[0m\n\u001b[0;32m--> 373\u001b[0;31m         \u001b[0;32mreturn\u001b[0m \u001b[0m_read_gdf_header\u001b[0m\u001b[0;34m(\u001b[0m\u001b[0mfname\u001b[0m\u001b[0;34m,\u001b[0m \u001b[0mexclude\u001b[0m\u001b[0;34m)\u001b[0m\u001b[0;34m,\u001b[0m \u001b[0;32mNone\u001b[0m\u001b[0;34m\u001b[0m\u001b[0;34m\u001b[0m\u001b[0m\n\u001b[0m\u001b[1;32m    374\u001b[0m     \u001b[0;32melse\u001b[0m\u001b[0;34m:\u001b[0m\u001b[0;34m\u001b[0m\u001b[0;34m\u001b[0m\u001b[0m\n\u001b[1;32m    375\u001b[0m         raise NotImplementedError(\n",
            "\u001b[0;32m/usr/local/lib/python3.7/dist-packages/mne/io/edf/edf.py\u001b[0m in \u001b[0;36m_read_gdf_header\u001b[0;34m(fname, exclude)\u001b[0m\n\u001b[1;32m    903\u001b[0m             \u001b[0;31m# skip data to go to event table\u001b[0m\u001b[0;34m\u001b[0m\u001b[0;34m\u001b[0m\u001b[0;34m\u001b[0m\u001b[0m\n\u001b[1;32m    904\u001b[0m             \u001b[0mfid\u001b[0m\u001b[0;34m.\u001b[0m\u001b[0mseek\u001b[0m\u001b[0;34m(\u001b[0m\u001b[0metp\u001b[0m\u001b[0;34m)\u001b[0m\u001b[0;34m\u001b[0m\u001b[0;34m\u001b[0m\u001b[0m\n\u001b[0;32m--> 905\u001b[0;31m             \u001b[0metmode\u001b[0m \u001b[0;34m=\u001b[0m \u001b[0mnp\u001b[0m\u001b[0;34m.\u001b[0m\u001b[0mfromfile\u001b[0m\u001b[0;34m(\u001b[0m\u001b[0mfid\u001b[0m\u001b[0;34m,\u001b[0m \u001b[0mUINT8\u001b[0m\u001b[0;34m,\u001b[0m \u001b[0;36m1\u001b[0m\u001b[0;34m)\u001b[0m\u001b[0;34m[\u001b[0m\u001b[0;36m0\u001b[0m\u001b[0;34m]\u001b[0m\u001b[0;34m\u001b[0m\u001b[0;34m\u001b[0m\u001b[0m\n\u001b[0m\u001b[1;32m    906\u001b[0m             \u001b[0;32mif\u001b[0m \u001b[0metmode\u001b[0m \u001b[0;32min\u001b[0m \u001b[0;34m(\u001b[0m\u001b[0;36m1\u001b[0m\u001b[0;34m,\u001b[0m \u001b[0;36m3\u001b[0m\u001b[0;34m)\u001b[0m\u001b[0;34m:\u001b[0m\u001b[0;34m\u001b[0m\u001b[0;34m\u001b[0m\u001b[0m\n\u001b[1;32m    907\u001b[0m                 \u001b[0msr\u001b[0m \u001b[0;34m=\u001b[0m \u001b[0mnp\u001b[0m\u001b[0;34m.\u001b[0m\u001b[0mfromfile\u001b[0m\u001b[0;34m(\u001b[0m\u001b[0mfid\u001b[0m\u001b[0;34m,\u001b[0m \u001b[0mUINT8\u001b[0m\u001b[0;34m,\u001b[0m \u001b[0;36m3\u001b[0m\u001b[0;34m)\u001b[0m\u001b[0;34m\u001b[0m\u001b[0;34m\u001b[0m\u001b[0m\n",
            "\u001b[0;31mIndexError\u001b[0m: index 0 is out of bounds for axis 0 with size 0"
          ]
        }
      ]
    },
    {
      "cell_type": "markdown",
      "metadata": {
        "id": "XC1QR-KovFvO"
      },
      "source": [
        "**This cell reads the location file, applies the correct name to each channel and shows a aurface map of each electrode location.**"
      ]
    },
    {
      "cell_type": "code",
      "metadata": {
        "id": "IKOKNp0mvCzY"
      },
      "source": [
        "ch_names = raw.ch_names\n",
        "montage = read_custom_montage('/CLACS-32_REFinTP9_NF Teresa.bvef') #PLEASE UPLOAD SAMPLE FILES\n",
        "montage.plot(kind='topomap')\n",
        "ch_loc = montage.ch_names\n",
        "c = dict(zip(ch_names, ch_loc)) #combine names with locations\n",
        "raw.rename_channels(c)\n",
        "raw.set_montage(montage)\n",
        "print('Number of channels marked as bad:', len(raw.info['bads']))"
      ],
      "execution_count": null,
      "outputs": []
    },
    {
      "cell_type": "markdown",
      "metadata": {
        "id": "SOIGmz0Zv6Zf"
      },
      "source": [
        "# Apply band-pass filter (1-45 Hz) and re-reference to average"
      ]
    },
    {
      "cell_type": "code",
      "metadata": {
        "id": "MPg9ErCSvRdJ"
      },
      "source": [
        "lo_freq = 1.\n",
        "hi_freq = 45.\n",
        "filtered = raw.filter(lo_freq, hi_freq, fir_design='firwin', skip_by_annotation='edge')\n",
        "filtered.set_eeg_reference(ref_channels='average', projection = True).apply_proj() "
      ],
      "execution_count": null,
      "outputs": []
    },
    {
      "cell_type": "markdown",
      "metadata": {
        "id": "reOR0IKzxCsu"
      },
      "source": [
        "# Epoching into sets and trials (C)\n",
        "This cell works for *Cristiano'*s data. Takes each annotations present in the raw files and croppes them into epochs containing either sets or trials."
      ]
    },
    {
      "cell_type": "markdown",
      "metadata": {
        "id": "uzEMDYp4yFk7"
      },
      "source": [
        "\n",
        "\n",
        "> SETS\n"
      ]
    },
    {
      "cell_type": "code",
      "metadata": {
        "id": "CWdrcH1VxDON"
      },
      "source": [
        "sets_id = {'1':1,'7':37,'13':8,'19':14,'25':21}\n",
        "events_sets, _ = events_from_annotations(raw, event_id=sets_id)\n",
        "tmin_1=-0.5 \n",
        "tmax_1=360\n",
        "cropped_sets = filtered.copy()\n",
        "picks_sets = pick_types(cropped_sets.info, meg=False, eeg=True, stim=False, \n",
        "                        eog=False,exclude='bads')\n",
        "epochs_sets = Epochs(cropped_sets, events_sets, \n",
        "                     sets_id , tmin_1, tmax_1, \n",
        "                     proj=True,picks=picks_sets, preload=True,baseline=None)"
      ],
      "execution_count": null,
      "outputs": []
    },
    {
      "cell_type": "markdown",
      "metadata": {
        "id": "qHubsOz2x-Y5"
      },
      "source": [
        "\n",
        "\n",
        "> TRIALS\n",
        "\n"
      ]
    },
    {
      "cell_type": "code",
      "metadata": {
        "id": "RWuFpQP4yTCi"
      },
      "source": [
        "trials_id={'1': 1, '10': 2, '11': 6, '12': 7, '13': 8, \n",
        " '14': 9, '15': 10, '16': 11, '17': 12, '18': 13, '19': 14, '2': 15, \n",
        " '20': 16, '21': 17, '22': 18, '23': 19, '24': 20, '25': 21, '26': 22,\n",
        " '27': 23, '28': 24, '29': 25, '3': 26, '30': 27, '4': 31, '5': 32,'6': 36,\n",
        " '7': 37, '8': 38, '9': 39}\n",
        "ts_trials, _ = events_from_annotations(raw, event_id=trials_id)\n",
        "tmin_2=-0.5\n",
        "tmax_2=60\n",
        "cropped_trials = filtered.copy()\n",
        "picks_trials = pick_types(cropped_trials.info, meg=False, eeg=True, stim=False, \n",
        "                        eog=False, exclude='bads')\n",
        "epochs_trials = Epochs(cropped_trials, events_trials, trials_id, tmin_2,\n",
        "                       tmax_2, proj=True,picks=picks_trials, preload=True,\n",
        "                       baseline=None)"
      ],
      "execution_count": null,
      "outputs": []
    },
    {
      "cell_type": "markdown",
      "metadata": {
        "id": "1vJK30CJxukN"
      },
      "source": [
        "# Epoching into sets and trials (T)\n",
        "This cell works for *Teresa'*s data. Takes each annotations present in the raw files and croppes them into epochs containing either sets or trials."
      ]
    },
    {
      "cell_type": "markdown",
      "metadata": {
        "id": "3f_oeR-GyrA8"
      },
      "source": [
        "\n",
        "\n",
        "> SETS\n"
      ]
    },
    {
      "cell_type": "code",
      "metadata": {
        "id": "t5R8Qajtx5Ik"
      },
      "source": [
        "sets_id = {'1':1,'7':37,'13':8,'19':14,'25':21}\n",
        "events_sets, _ = events_from_annotations(raw, event_id=sets_id)\n",
        "tmin_1=-0.5 \n",
        "tmax_1=360\n",
        "cropped_sets = filtered.copy()\n",
        "picks_sets = pick_types(cropped_sets.info, meg=False, eeg=True, stim=False, \n",
        "                        eog=False,exclude='bads')\n",
        "epochs_sets = Epochs(cropped_sets, events_sets, sets_id , tmin_1, tmax_1, \n",
        "                     proj=True,picks=picks_sets, preload=True,baseline=None)"
      ],
      "execution_count": null,
      "outputs": []
    },
    {
      "cell_type": "markdown",
      "metadata": {
        "id": "qqSpkUxOy2Zy"
      },
      "source": [
        "\n",
        "\n",
        "\n",
        "> TRIALS\n",
        "\n"
      ]
    },
    {
      "cell_type": "code",
      "metadata": {
        "id": "uOfwXoKgy4wo"
      },
      "source": [
        "trials_id={'33282':6}\n",
        "events_trials, _ = events_from_annotations(raw, event_id=trials_id)\n",
        "tmin_2=-0.5\n",
        "tmax_2=60\n",
        "cropped_trials = filtered.copy()\n",
        "picks_trials = pick_types(cropped_trials.info, meg=False, eeg=True, stim=False, \n",
        "                          eog=False, exclude='bads')\n",
        "epochs_trials = Epochs(cropped_trials, events_trials, trials_id, tmin_2,\n",
        "                       tmax_2, proj=True,picks=picks_trials, preload=True,\n",
        "                       baseline=None)"
      ],
      "execution_count": null,
      "outputs": []
    },
    {
      "cell_type": "markdown",
      "metadata": {
        "id": "T8Xz4D7x1cVq"
      },
      "source": [
        "Plotting channels"
      ]
    },
    {
      "cell_type": "code",
      "metadata": {
        "id": "sRoiQoV61cGL"
      },
      "source": [
        "\n",
        "'''\n",
        "channel = input(\"Choose a channel number to visualize:\")\n",
        "#epochs_sets.plot()\n",
        "epochs_sets.plot_image(int(channel), cmap='interactive', show=True) \n",
        "epochs_sets.plot_image(combine='gfp', sigma=2., cmap=\"YlGnBu_r\")\n",
        "epochs_sets.plot_topo_image(vmin=-250, vmax=250, title='ERF images', sigma=2.)\n",
        "\n",
        "# %%\n",
        "# SEE TOPOPLOTS HEATMAP ON THE SCALP\n",
        "# more plotting functions, divde different eeg bands\n",
        "# also look at ICA\n",
        "# apply fft or plot frequency domain \n",
        "# MAKE IT WORK FOR ANY FILE, extract annotations timing\n",
        "\n",
        "epochs_sets.plot_psd(fmin=1., fmax=40., average=True) # Channel types by averaging across epochs\n",
        "\n",
        "\n",
        "# %%\n",
        "\n",
        "#fig, axis = plt.subplots(1, 2, figsize=(7, 4))\n",
        "#epochs_sets.plot_psd_topomap(ch_type='eeg', normalize=False)\n",
        "#epochs_sets.plot_psd_topomap(ch_type='eeg', normalize=True,show=False)#,axes=axis[1])\n",
        "#epochs_trials.plot_psd_topomap(ch_type='eeg', normalize=False)\n",
        "'''\n"
      ],
      "execution_count": null,
      "outputs": []
    },
    {
      "cell_type": "markdown",
      "metadata": {
        "id": "X_43MqgZ1gu5"
      },
      "source": [
        "# Applying ICA for noise removal"
      ]
    },
    {
      "cell_type": "code",
      "metadata": {
        "id": "ebzziZAP1gjU"
      },
      "source": [
        "\n",
        "#RUN ICA on Raw cropped\n",
        "ica_raw = ICA(n_components=19,method='fastica').fit(cropped_sets) #Applies ICA to the epoched data\n",
        "ica_raw.plot_sources(cropped_sets) # Shows the time series of the ICs (SHOW ONLY 1st SET)\n",
        "components = ica_raw.plot_components(cmap='jet') # plot components\n",
        "components.save(cur_dir, 'JPEG')\n",
        "\n",
        "#VISUALIZING ICA AND CHOOSE AT LEAST ONE COMPONENT\n",
        "see = int(input(\"Choose ICA components to see:\"))\n",
        "ica_raw.plot_properties(cropped_sets,picks=see)\n",
        "ica_raw.plot_overlay(cropped_sets, exclude=[see], picks='eeg')\n",
        "\n",
        "# Removing components based on plots and comparison\n",
        "#lista = []\n",
        "#remove = [int(input(\"Choose ICA components to remove:\"))]\n",
        "ica_raw.exclude = [0,1]\n",
        "reconst_epochs = cropped_sets.copy()\n",
        "ica_raw.apply(reconst_epochs)\n",
        "reconst_epochs.plot()"
      ],
      "execution_count": null,
      "outputs": []
    },
    {
      "cell_type": "markdown",
      "metadata": {
        "id": "qvfLE0_j12tG"
      },
      "source": [
        "Generating new Epochs (after ICA)"
      ]
    },
    {
      "cell_type": "code",
      "metadata": {
        "id": "mkbpWOiH1zxa"
      },
      "source": [
        "new_epochs_sets = Epochs(reconst_epochs, events_sets, sets_id, tmin_1, tmax_1, proj=True,picks=picks_sets, preload=True,baseline=None)"
      ],
      "execution_count": null,
      "outputs": []
    },
    {
      "cell_type": "markdown",
      "metadata": {
        "id": "HuhN6elw19S7"
      },
      "source": [
        "# Comparing topographic maps"
      ]
    },
    {
      "cell_type": "code",
      "metadata": {
        "id": "lB_6YhEw2Fnc"
      },
      "source": [
        "epochs_sets.plot_psd(fmin=1., fmax=40., average=True)\n",
        "epochs_sets.plot_psd_topomap(ch_type=()='eeg',cmap='jet', normalize=False)\n",
        "new_epochs_sets.plot_psd(fmin=1., fmax=40., average=True) # Channel types by averaging across epochs\n",
        "new_epochs_sets.plot_psd_topomap(ch_type='eeg',cmap='jet', normalize=False)"
      ],
      "execution_count": null,
      "outputs": []
    },
    {
      "cell_type": "markdown",
      "metadata": {
        "id": "2QgOHSlQ2IXj"
      },
      "source": [
        "Saves new data"
      ]
    },
    {
      "cell_type": "code",
      "metadata": {
        "id": "d85_Q1cu2JPd"
      },
      "source": [
        "new_epochs_sets.save('epochs_S1')\n",
        "reconst_epochs.save('raw_S1')"
      ],
      "execution_count": null,
      "outputs": []
    }
  ]
}